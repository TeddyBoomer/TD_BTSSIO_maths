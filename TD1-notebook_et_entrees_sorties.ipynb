{
 "cells": [
  {
   "cell_type": "markdown",
   "metadata": {},
   "source": [
    "# TD1 - scripts python et notebook\n",
    "\n",
    "Cette activité a pour but de découvrir les principes de programmation d'un script dans le langage python. Vous apprendrez à lancer des morceaux de code grâce au notebook.\n",
    "\n",
    "Les *notebook* sont désormais communément utilisés pour apprendre à programmer dans différents langages informatiques: l'interface web alterne des blocs de texte et des blocs de code informatique exécuté par un noyau logiciel. Ici, le noyau d'exécution est en *python 3*; c'est un langage interprété de haut niveau:\n",
    "\n",
    "* les scripts python sont analysés et exécutés directement par un *interpréteur python*\n",
    "* vous n'avez pas besoin de gérer l'allocation de mémoire pour définir des variables (même si il reste bon d'avoir conscience des quantités de données qui vont intervenir dans le script)\n",
    "\n",
    "Vous verrez plus tard la création et l'exécution directes de scripts python.\n",
    "\n",
    "**Raccourcis:**\n",
    "\n",
    "* zone de texte: Double-clic pour l'éditer, Ctrl + Entrée pour afficher son rendu\n",
    "* zone de code: Ctrl + Entrée pour exécuter le contenu (l'ordre d'exécution des zones a de l'importance)\n",
    "* zone de code: Esc puis \"b\" → créer une zone de code en dessous (below), Esc puis \"a\" → créer une zone au dessus (above)\n",
    "* modifier la nature d'une zone: Esc puis \"m\" → zone de texte (markdown), Esc puis \"y\" → zone de code\n",
    "\n",
    "Exécutez les zones suivantes pour voir…"
   ]
  },
  {
   "cell_type": "code",
   "execution_count": null,
   "metadata": {},
   "outputs": [],
   "source": [
    "a = 42\n",
    "b = 2\n",
    "print(a)"
   ]
  },
  {
   "cell_type": "code",
   "execution_count": null,
   "metadata": {},
   "outputs": [],
   "source": [
    "c = a**b # en python ** signifie puissance (^ réservé pour autre chose)\n",
    "print(c)"
   ]
  },
  {
   "cell_type": "markdown",
   "metadata": {},
   "source": [
    "***\n",
    "\n",
    "## Principes généraux d'un algorithme\n",
    "\n",
    "1. Un algorithme manipule toujours des quantités à stocker en mémoire: les *variables*. Il réalise une série finie d'instructions\n",
    "2. Il intéragit avec un utilisateur à l'aide d'instructions d'*entrée/sortie*: réception de données saisies, affichage  à l'écran ou enregistrement des résultats dans un fichier.\n",
    "\n",
    "3. Il utilise des blocs de contrôle pour piloter son exécution:\n",
    " * bloc conditionnel si, sinon\n",
    " * boucles de répétition pour (bornées), tant que (conditionnelles) (attention aux boucles infinies)\n",
    "\n",
    "4. Il utilise des blocs fonctionnels, les *fonctions* pour simplifier l'appel régulier à un ensemble d'instructions\n",
    "\n",
    "### Affectation de variable\n",
    "\n",
    "Les noms de variables peuvent contenir tout caractère alphanumérique en commençant par une lettre; éviter les caractères spéciaux `-*/+|^&` qui sont des opérateurs mathématiques de même que les caractères de parenthésage `()[]{}`.\n",
    "\n",
    "L'instruction `a = expr` est une *affectation* qui consiste à enregistrer le résultat du calcul de `expr` dans la variable `a`. Notez que l'écriture n'est pas symétrique `expr = a` provoque une erreur (essayez pour voir…)\n",
    "\n",
    "En langage naturel, on écrira l'équivalent `a ← expr`\n",
    "\n",
    "### instruction de Sortie\n",
    "\n",
    "Vous avez déjà rencontré la principale instruction de sortie: la fonction `print`. Lisez sa documentation en lançant le bloc ci-dessous:"
   ]
  },
  {
   "cell_type": "code",
   "execution_count": null,
   "metadata": {},
   "outputs": [],
   "source": [
    "print(print.__doc__) # afficher la doc. de la fonction print"
   ]
  },
  {
   "cell_type": "markdown",
   "metadata": {},
   "source": [
    "par défaut, la fonction print affichera à l'écran, mais on pourra aussi préciser de rediriger les résultats dans un fichier.\n",
    "\n",
    "### instruction d'Entrée au clavier\n",
    "\n",
    "La fonction `input(invite: str) -> str` est la principale instruction d'interaction pour demander une saisie au clavier.\n",
    "\n",
    "Observez l'écriture ci-dessus : il s'agit de la *signature* de la fonction: elle attend en paramètre une phrase d'invite (pour préciser ce qu'il y a à saisir) et renvoie une chaîne de caractères en sortie.\n",
    "\n",
    "**exemple**"
   ]
  },
  {
   "cell_type": "code",
   "execution_count": 4,
   "metadata": {},
   "outputs": [
    {
     "name": "stdout",
     "output_type": "stream",
     "text": [
      "saisir un nombre entier quelconque: 5\n",
      "5\n"
     ]
    }
   ],
   "source": [
    "c = input(\"saisir un nombre entier quelconque: \")\n",
    "print(c)"
   ]
  },
  {
   "cell_type": "markdown",
   "metadata": {},
   "source": [
    "⚠ une saisie au clavier est *toujours* une chaîne de caractères de type `str` ce qui implique que \n",
    "\n",
    "* les variables python sont typées\n",
    "* il faut convertir les saisies dans le type souhaité.\n",
    "\n",
    "### type de variables\n",
    "\n",
    "Les types de variables élémentaires en python sont: \n",
    "* `str`: les chaînes de caractères\n",
    "* `int`: les nombres entiers\n",
    "* `float`: les nombres à virgule flottante\n",
    "\n",
    "Ces trois types sont aussi des fonctions que l'on peut appeler pour convertir une expression au type souhaité. Ceci est appelé le [transtypage](https://fr.wikibooks.org/wiki/Programmation_Java/Transtypage).\n",
    "\n",
    "Nous verrons plus tard les `list` et les `tuple` qui sont des variables plus élaborées.\n",
    "\n",
    "**exemple**"
   ]
  },
  {
   "cell_type": "code",
   "execution_count": null,
   "metadata": {},
   "outputs": [],
   "source": [
    "print(c+3) # va provoquer une erreur car c est de type str"
   ]
  },
  {
   "cell_type": "code",
   "execution_count": null,
   "metadata": {},
   "outputs": [],
   "source": [
    "print(int(c)+3) # réalisable addition de deux entiers"
   ]
  },
  {
   "cell_type": "code",
   "execution_count": null,
   "metadata": {},
   "outputs": [],
   "source": [
    "d = int(input(\"saisir un nombre entier quelconque: \")) # enchaînement direct: saisie et conversion\n",
    "print(d+3) "
   ]
  },
  {
   "cell_type": "markdown",
   "metadata": {},
   "source": [
    "## Opérations de base\n",
    "\n",
    "### sur les nombres `int` et `float`\n",
    "\n",
    "les 4 opérations `+ - * /`, la fonction puissance `a**b` ($a^b$) vue plus haut. Noter que la division va produire un flottant en général"
   ]
  },
  {
   "cell_type": "code",
   "execution_count": null,
   "metadata": {},
   "outputs": [],
   "source": [
    "print(4/2) # observer que le résultat est un flottant bien qu'il tombe juste"
   ]
  },
  {
   "cell_type": "markdown",
   "metadata": {},
   "source": [
    "2 opérations **très importantes** concernent les entiers `int`: \n",
    "* le quotient entier de la division euclidienne `a//b`\n",
    "* le reste de la division euclidienne `a%b`"
   ]
  },
  {
   "cell_type": "code",
   "execution_count": null,
   "metadata": {},
   "outputs": [],
   "source": [
    "a = 29\n",
    "b = 5\n",
    "print(\"division euclidienne - quotient: \", a//b, \" reste: \", a%b)"
   ]
  },
  {
   "cell_type": "markdown",
   "metadata": {},
   "source": [
    "### sur les chaînes de caractères `str`\n",
    "\n",
    "* concaténation: `d+e` pour accrocher deux `str`\n",
    "* répétition d'un motif: `2*d`, `3*d`\n",
    "* nombre de caractères: appel à la fonction `len` (length)\n",
    "\n",
    "d'autres opérations seront vues plus tard"
   ]
  },
  {
   "cell_type": "code",
   "execution_count": null,
   "metadata": {},
   "outputs": [],
   "source": [
    "d = \"bonjour \"\n",
    "e = \"aux SIO\"\n",
    "print(d+e)\n",
    "print(2*d, 3*d)\n",
    "print(len(d)) # nombre de caractères de d"
   ]
  },
  {
   "cell_type": "markdown",
   "metadata": {},
   "source": [
    "<span style=\"color: red\">☝ astuce:</span> pour intégrer des résultats dans une phrase, on peut éviter des concaténations laborieuses et préférer l'astucieuse notation de f-string (formatting string)"
   ]
  },
  {
   "cell_type": "code",
   "execution_count": null,
   "metadata": {},
   "outputs": [],
   "source": [
    "c = \"division euclidienne - quotient: \" + str(a//b) + \" reste: \" + str(a%b) # old school\n",
    "d = f\"division euclidienne - quotient: {a//b} reste: {a%b}\" # on préfixe la str par f pour inclure des expr.\n",
    "print(c, d, sep=\"\\n\")"
   ]
  },
  {
   "cell_type": "markdown",
   "metadata": {},
   "source": [
    "### C'est-à-vous  - Exercices\n",
    "\n",
    "**Ex1**: Écrire un bloc d'instructions qui demande de saisir un entier, puis qui affiche «votre nombre préféré est: …» (avec le nombre saisi à la fin)."
   ]
  },
  {
   "cell_type": "code",
   "execution_count": null,
   "metadata": {},
   "outputs": [],
   "source": []
  },
  {
   "cell_type": "markdown",
   "metadata": {},
   "source": [
    "**Ex2**: Rédiger ci-dessous un script qui demande l'année de naissance `a` puis affiche «vous avez environ … ans» (en calculant juste la différence `2022 - a`)"
   ]
  },
  {
   "cell_type": "code",
   "execution_count": null,
   "metadata": {},
   "outputs": [],
   "source": []
  },
  {
   "cell_type": "markdown",
   "metadata": {},
   "source": [
    "**Ex3**: Rédiger un script qui demande de saisir une phrase `p` puis qui affiche «votre saisie comporte … caractères» (avec le bon nombre de caractères à la place des pointillés…)"
   ]
  },
  {
   "cell_type": "code",
   "execution_count": null,
   "metadata": {},
   "outputs": [],
   "source": []
  },
  {
   "cell_type": "markdown",
   "metadata": {},
   "source": [
    "## Blocs de test\n",
    "\n",
    "Allons un peu plus loin pour découvrir le langage:\n",
    "\n",
    "Comment réagir aux valeurs des variables? Il s'agit à présent de coder des contraintes et des actions relativement à des **tests** sur les variables.\n",
    "\n",
    "### structure générale d'un bloc d'instructions\n",
    "\n",
    "En python, il n'y a pas d'accolades {} pour encadrer des blocs d'instructions comme en java, javascript etc.\n",
    "un bloc de code a toujours l'aspect suivant:\n",
    "\n",
    "```python\n",
    "test|boucle|fonction:\n",
    "    instruc 1\n",
    "    instruc 2\n",
    "    …\n",
    "    instruc n\n",
    "```\n",
    "→ L'instruction d'ouverture se finit par deux points \":\"; le contenu du bloc **doit** être [**indenté**](https://fr.wikipedia.org/wiki/Style_d%27indentation) de 4 espaces; dès que l'on reviendra sur le bord gauche normalement, on sera hors du bloc.\n",
    "\n",
    "### structure d'un bloc de test\n",
    "\n",
    "```python\n",
    "if *test1*: # placer un test qui donne un booléen \n",
    "    # instructions à réaliser dans ce cas\n",
    "elif *test2*:\n",
    "    # instructions à réaliser dans ce cas\n",
    "…\n",
    "else:\n",
    "    # instructions à réaliser si tous les tests ont échoués\n",
    "```\n",
    "Les blocs `elif` et `else` sont facultatifs.\n",
    "\n",
    "### comparaisons de nombres\n",
    "\n",
    "Une comparaison entre deux nombres donne un résultat logique Vrai ou Faux `True`,`False`: ceci est donc un type de valeur à part en programmation, appelée *type booléen* `bool`. Ce type ne comporte que ces deux valeurs.\n",
    "\n",
    "* `<, >, <=, >=` permettent les comparaisons strictes ou larges $<, >, \\leqslant, \\geqslant$\n",
    "* `a != b` renvoie `True` si et seulement si les deux nombres sont différents.\n",
    "* `a == b` renvoie `True` si et seulement si les deux nombres sont égaux.\n",
    "\n",
    "(observer que `==` est donc un test logique, tandis que `=` est l'opérateur d'affectation vu plus haut)\n",
    "\n",
    "### opérateurs logiques\n",
    "\n",
    "De manière naturelles, on peut combiner plusieurs tests logiques avec des connecteurs logiques `and, or, not`\n",
    "\n",
    "**exemple**: On veut que l'utilisateur saisisse un entier entre 0 et 20, l'affichage doit signaler si ça n'est pas le cas (on laisse de côté pour l'instant le cas où l'utilisateur fait une saisie de caractère incorrect)"
   ]
  },
  {
   "cell_type": "code",
   "execution_count": null,
   "metadata": {},
   "outputs": [],
   "source": [
    "# 1ere manière:\n",
    "a = int(input(\"saisir un nombre entre 0 et 20:\"))\n",
    "if a > 20:\n",
    "    print(\"votre nombre est trop grand\")\n",
    "elif a < 0:\n",
    "    print(\"votre nombre est trop petit\")\n",
    "else:\n",
    "    print(f\"vous avez saisi: {a}\")"
   ]
  },
  {
   "cell_type": "code",
   "execution_count": null,
   "metadata": {},
   "outputs": [],
   "source": [
    "# 2e manière:\n",
    "a = int(input(\"saisir un nombre entre 0 et 20:\"))\n",
    "if (a>20) or (a<0):\n",
    "    print(\"votre nombre n'est pas entre 0 et 20\")\n",
    "else:\n",
    "    print(f\"vous avez saisi: {a}\")"
   ]
  },
  {
   "cell_type": "markdown",
   "metadata": {},
   "source": [
    "### C'est-à-vous  - Exercices\n",
    "\n",
    "**Ex4**: Rédiger un script qui demande de saisir un mot; \n",
    "* si le mot comporte 5 caractères ou moins, on affiche « moins de 5 caractères »\n",
    "* si le mot en comporte plus, on affiche: « strictement plus de 5 caractères »"
   ]
  },
  {
   "cell_type": "code",
   "execution_count": null,
   "metadata": {},
   "outputs": [],
   "source": []
  },
  {
   "cell_type": "markdown",
   "metadata": {},
   "source": [
    "**Ex5**: Le tarif des photocopies dans un magasin dépend du nombre:\n",
    "* entre 0 et 50 pages, c'est 0.10€/page\n",
    "* entre 51 et 70 pages, c'est 0.08€/page\n",
    "* au delà de 71 pages, c'est 0.05€/page\n",
    "\n",
    "Rédiger un script qui demande de saisir le nombre de photocopies souhaité (supposé entier naturel)\n",
    "et qui affiche le prix à payer."
   ]
  },
  {
   "cell_type": "code",
   "execution_count": null,
   "metadata": {},
   "outputs": [],
   "source": []
  }
 ],
 "metadata": {
  "kernelspec": {
   "display_name": "Python 3",
   "language": "python",
   "name": "python3"
  },
  "language_info": {
   "codemirror_mode": {
    "name": "ipython",
    "version": 3
   },
   "file_extension": ".py",
   "mimetype": "text/x-python",
   "name": "python",
   "nbconvert_exporter": "python",
   "pygments_lexer": "ipython3",
   "version": "3.8.10"
  },
  "toc": {
   "base_numbering": 1,
   "nav_menu": {},
   "number_sections": true,
   "sideBar": true,
   "skip_h1_title": false,
   "title_cell": "Table of Contents",
   "title_sidebar": "Contents",
   "toc_cell": false,
   "toc_position": {},
   "toc_section_display": true,
   "toc_window_display": false
  }
 },
 "nbformat": 4,
 "nbformat_minor": 4
}
