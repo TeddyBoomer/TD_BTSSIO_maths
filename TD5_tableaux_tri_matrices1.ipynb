{
 "cells": [
  {
   "cell_type": "markdown",
   "metadata": {},
   "source": [
    "<h1>Tableaux de données - matrices</h1>\n",
    "\n",
    "<div class=\"alert alert-warning\">\n",
    "    <strong>Objectifs</strong>\n",
    "    \n",
    "1. manipuler les fonctions de tri de données dans un tableur (notamment le tri sur plusieurs champs successifs)\n",
    "2. initialiser des tableaux de données à 2 dimensions en python: on parle alors de matrice.\n",
    "    \n",
    "</div>"
   ]
  },
  {
   "cell_type": "markdown",
   "metadata": {},
   "source": [
    "## Fichier xlsx des établissements en Auvergne-Rhônes-Alpes\n",
    "\n",
    "Le fichier [etabs_rra.xlsx](https://0692717d.moodle.ent.auvergnerhonealpes.fr/mod/resource/view.php?id=4931) est un fichier tableur des établissements scolaires publics et privés du 2e degré (collèges lycées) dans la région.\n",
    "\n",
    "→ le copier et l'ouvrir dans un tableur (libreoffice calc ou ms office)\n",
    "\n",
    "Après avoir activer l'AutoFiltre ([ms](https://support.microsoft.com/fr-fr/office/utiliser-le-filtre-automatique-pour-filtrer-des-donn%C3%A9es-7d87d63e-ebd0-424b-8106-e2ab61133d92), [LO](https://help.libreoffice.org/6.2/fr/text/scalc/guide/autofilter.html)) sur les champs de données, répondez aux questions suivantes:\n",
    "\n",
    "1. Par ordre croissant de nom_etablissement, quel est le 25e établissement de la région?\n",
    "2. Et par ordre d'UAI (code d'Unité Administrative Immatriculée), quel est le 25e?\n",
    "3. Retrouvez l'UAI du lycée Jacques Brel.\n",
    "4. Parmi les lycées, quel est le lycée le plus au sud de la région? (trier les données par type d'établissement (1ere clé) puis latitude (2e clé))\n",
    "5. Quel est le lycée le plus à l'Est dans l'Ain? trouvez dans quelle ville il se situe."
   ]
  },
  {
   "cell_type": "markdown",
   "metadata": {},
   "source": [
    "## Initialisation de matrice\n",
    "\n",
    "*Mémo sur les listes*:\n",
    "\n",
    "* On peut accrocher un élément `e` à la fin d'une liste `L` par l'appel `L.append(e)`.\n",
    "* On obtient la taille de la liste `L` par l'appel de `len(L)`.\n",
    "* initialisation d'une liste de taille donnée avec un même élément:"
   ]
  },
  {
   "cell_type": "code",
   "execution_count": 2,
   "metadata": {},
   "outputs": [
    {
     "name": "stdout",
     "output_type": "stream",
     "text": [
      "[0, 0, 0, 0, 0] ['a', 'a', 'a', 'a', 'a', 'a', 'a', 'a', 'a', 'a']\n",
      "['b', 'o', 'n', 'j', 'o', 'u', 'r']\n"
     ]
    }
   ],
   "source": [
    "L = 5 * [0] # liste de taille 5, que des 0\n",
    "M = 10 * [\"a\"] # liste de taille 10, que des lettres \"a\"\n",
    "print(L, M)\n",
    "mot = \"bonjour\"\n",
    "N = list(mot) # liste des caractères de mot\n",
    "print(N)\n",
    "# méthode alternative et puissante: définition en compréhension\n",
    "L = [0 for i in range(5)]\n",
    "M = [\"a\" for i in range(10)]\n",
    "N = [e for e in mot]"
   ]
  },
  {
   "cell_type": "markdown",
   "metadata": {},
   "source": [
    "Une matrice de taille m×n possède m lignes et n colonnes. On la définit comme la *liste de ses m lignes*.\n",
    "\n",
    "**exemple 1**: initialisation de `M1` matrice de taille 3×5 remplie de 0 en deux temps"
   ]
  },
  {
   "cell_type": "code",
   "execution_count": 4,
   "metadata": {},
   "outputs": [
    {
     "name": "stdout",
     "output_type": "stream",
     "text": [
      "[0, 0, 0, 0, 0]\n",
      "[0, 0, 0, 0, 0]\n",
      "[0, 0, 0, 0, 0]\n",
      "_______________\n",
      "[0, 0, 0, 0, 0]\n",
      "[0, 0, 0, 0, 0]\n",
      "[0, 0, 0, 0, 0]\n",
      "_______________\n",
      "[0, 0, 0, 0, 0]\n",
      "[0, 0, 0, 0, 0]\n",
      "[0, 0, 0, 0, 0]\n"
     ]
    }
   ],
   "source": [
    "l1 = 5 * [0] # une ligne avec 5 zéros\n",
    "M1 = [l1 for i in range(3)]\n",
    "# construction directe\n",
    "# M1 = [ 5*[0] for i in range(3)]\n",
    "\n",
    "# affichage avec retour à la ligne pour chaque ligne: méthode 1\n",
    "for i in range(3):\n",
    "    print(M1[i])\n",
    "print(\"_______________\")\n",
    "# méthode 2: afficher les éléments de M1 séparés par \"\\n\"\n",
    "print(*M1, sep=\"\\n\")\n",
    "print(\"_______________\")\n",
    "# méthode 3: boucle sur les éléments(lignes) de M1 directement\n",
    "for e in M1:\n",
    "    print(e)"
   ]
  },
  {
   "cell_type": "markdown",
   "metadata": {},
   "source": [
    "**exercice 1**: créez une matrice M de taille 4×10 remplie de 9 et une matrice N de taille 6×2 remplie de \"\" (chaîne de caractères vide). Affichez M et N."
   ]
  },
  {
   "cell_type": "code",
   "execution_count": null,
   "metadata": {},
   "outputs": [],
   "source": []
  },
  {
   "cell_type": "markdown",
   "metadata": {},
   "source": [
    "---\n",
    "## Remplissage de matrice\n",
    "\n",
    "Cette section vous indique le principe général de double-boucle imbriquée, mais il reste à votre charge de vous adapter à chaque situation.\n",
    "\n",
    "**exemple 2**: Construisons une matrice M de taille 10×6 dont\n",
    "\n",
    "- la 1ere ligne contient les entiers j allant de 1 à 6\n",
    "- la 2e contient les entiers 2j pour j allant de 1 à 6: 2, 4, …, 12\n",
    "- la 3e contient les entiers 3j pour j allant de 1 à 6: 3, 6, …, 18\n",
    "etc.\n",
    "c'est-à-dire que la i-e ligne contient les entiers i×j (j allant de 1 à 6)\n",
    "La formule de calcul pour la case (i,j) (i-e ligne, j-e colonnes) est `M[i][j] = (i+1)(j+1)` (oui! attention au décalage d'indices en python) donc lancez:"
   ]
  },
  {
   "cell_type": "code",
   "execution_count": 5,
   "metadata": {},
   "outputs": [
    {
     "name": "stdout",
     "output_type": "stream",
     "text": [
      "[1, 2, 3, 4, 5, 6]\n",
      "[2, 4, 6, 8, 10, 12]\n",
      "[3, 6, 9, 12, 15, 18]\n",
      "[4, 8, 12, 16, 20, 24]\n",
      "[5, 10, 15, 20, 25, 30]\n",
      "[6, 12, 18, 24, 30, 36]\n"
     ]
    }
   ],
   "source": [
    "# initialisation\n",
    "M = [ 6*[0] for i in range(10)]\n",
    "# remplissage\n",
    "for i in range(10):\n",
    "    for j in range(6):\n",
    "        M[i][j] = (i+1)*(j+1)\n",
    "        \n",
    "for i in range(10):\n",
    "    print(M[i])"
   ]
  },
  {
   "cell_type": "markdown",
   "metadata": {},
   "source": [
    "*(bonus hp)*: l'écriture en compréhension permet de définir M en une seule ligne; contemplez:"
   ]
  },
  {
   "cell_type": "code",
   "execution_count": null,
   "metadata": {},
   "outputs": [],
   "source": [
    "M = [[(i+1)*(j+1) for j in range(6)] for i in range(10)]"
   ]
  },
  {
   "cell_type": "markdown",
   "metadata": {},
   "source": [
    "**exercice 2 - C'est-à-vous**: Construire une matrice M de taille 10×15 telle que la case (i,j) vaut:\n",
    "$$M_{i,j} = (i-1)+(j-1)$$\n",
    "Puis l'afficher. Attention, avec les décalages d'indice en python, on a : `M[i][j] = i + j`\n",
    "\n",
    "ainsi sur la 1ere ligne (indice python i=0), on aura les nombres 0,1,2,…,14\n",
    "\n",
    "puis sur la 2eme ligne (indice python i=1), on aura les nombres 1,2,3,…,15 etc."
   ]
  },
  {
   "cell_type": "code",
   "execution_count": null,
   "metadata": {},
   "outputs": [],
   "source": []
  },
  {
   "cell_type": "markdown",
   "metadata": {},
   "source": [
    "---\n",
    "**exemple 3** vous disposez d'une liste `L` qui contient 60 éléments (par exemple les 60 premiers nombres premiers). Vous voulez présenter la liste en une matrice `M` de 5 lignes par 12 colonnes; comment faire le remplissage de `M`?"
   ]
  },
  {
   "cell_type": "code",
   "execution_count": 10,
   "metadata": {},
   "outputs": [
    {
     "name": "stdout",
     "output_type": "stream",
     "text": [
      "[2, 3, 5, 7, 11, 13, 17, 19, 23, 29, 31, 37, 41, 43, 47, 53, 59, 61, 67, 71]\n"
     ]
    }
   ],
   "source": [
    "from sympy import nextprime\n",
    "L = [2]\n",
    "for i in range(59):\n",
    "    L.append(nextprime(L[-1]))\n",
    "# les 20 premiers éléments de L\n",
    "print(L[:20])"
   ]
  },
  {
   "cell_type": "markdown",
   "metadata": {},
   "source": [
    "*réponse*: les numéros de colonnes vont de 0 à 11… ce sont donc les **restes** possibles modulo 12. \n",
    "Observons l'emplacement de l'élement d'indice 14:\n",
    "\n",
    "$$M = \\begin{pmatrix}\n",
    "e_0& e_1 & e_2 & \\cdots & e_{11}\\\\\n",
    "e_{12} & e_{13}& e_{14} &\\cdots & e_{23}\\\\\n",
    "etc. & & & &\n",
    "\\end{pmatrix}$$\n",
    "\n",
    "Cet élément est en $(2;3)$; si on numérote les lignes et colonnes à partir de 0, cela correspond à $L_1; C_2$.\n",
    "\n",
    "Or $14 = \\mathbf{1} \\times 12 + \\mathbf{2}$; on constate que les coordonnées de $e_{14}$ sont exactement `( quotient;reste)` de 14 par 12. \n",
    "\n",
    "Pour remplir `M`, on fait:\n",
    "\n",
    "    Pour i de 0 à 9:\n",
    "        Pour j de 0 à 11:\n",
    "            M[i][j] = L[i*12 +j ]"
   ]
  },
  {
   "cell_type": "code",
   "execution_count": 11,
   "metadata": {},
   "outputs": [
    {
     "name": "stdout",
     "output_type": "stream",
     "text": [
      "[2, 3, 5, 7, 11, 13, 17, 19, 23, 29, 31, 37]\n",
      "[41, 43, 47, 53, 59, 61, 67, 71, 73, 79, 83, 89]\n",
      "[97, 101, 103, 107, 109, 113, 127, 131, 137, 139, 149, 151]\n",
      "[157, 163, 167, 173, 179, 181, 191, 193, 197, 199, 211, 223]\n",
      "[227, 229, 233, 239, 241, 251, 257, 263, 269, 271, 277, 281]\n"
     ]
    }
   ],
   "source": [
    "# initialisation taille 5×12, que des 0\n",
    "M = [ 12*[0] for i in range(5)]\n",
    "# remplissage\n",
    "for i in range(5):\n",
    "    for j in range(12):\n",
    "        M[i][j] = L[i*12 +j]\n",
    "        \n",
    "for i in range(5):\n",
    "    print(M[i])"
   ]
  },
  {
   "cell_type": "code",
   "execution_count": null,
   "metadata": {},
   "outputs": [],
   "source": [
    "# bonus: écriture dans l'autre sens\n",
    "for k in range(120):\n",
    "    i = k//12\n",
    "    j = k%12\n",
    "    M[i][j] = L[k]"
   ]
  },
  {
   "cell_type": "markdown",
   "metadata": {},
   "source": [
    "**exercice 3 - C'est-à-vous**: on a encore $60 = 6\\times 10$. En adaptant l'exemple précédent, construisez une matrice `N` de taille 10×6 contenant les 60 premiers nombres premiers (et affichez `N`)"
   ]
  },
  {
   "cell_type": "code",
   "execution_count": null,
   "metadata": {},
   "outputs": [],
   "source": []
  },
  {
   "cell_type": "markdown",
   "metadata": {},
   "source": [
    "***\n",
    "### remplissage général en fonction de i et j\n",
    "\n",
    "Dans l'exemple 3, nous avons pu identifié une *fonction* à 2 variables (i, j) permettant de calculer quel doit être le contenu de la case `M[i][j]`: \n",
    "\n",
    "    M[i][j] = L[i*12 +j]  <-- il fallait récupérer cet élément\n",
    "\n",
    "<div class=\"alert alert-info\">\n",
    "    Étant donnée une fonction <code>f(i: int, j: int)</code>, l'écriture générale du remplissage de la matrice sera donc de la forme\n",
    "    <pre><code>\n",
    "    Pour i allant de 0 à (nombre de lignes - 1):\n",
    "        Pour j allant de 0 à (nombre de colonnes -1):\n",
    "            M[i][j] ← f(i, j)\n",
    "    </code></pre>\n",
    "→ bien retenir ce principe de double-boucle imbriquée.\n",
    "</div>\n",
    "***"
   ]
  },
  {
   "cell_type": "markdown",
   "metadata": {},
   "source": [
    "**exercice 4**: soit `s` la variable suivante"
   ]
  },
  {
   "cell_type": "code",
   "execution_count": 12,
   "metadata": {},
   "outputs": [
    {
     "name": "stdout",
     "output_type": "stream",
     "text": [
      "182\n"
     ]
    }
   ],
   "source": [
    "# début du poème l'Albatros (Charles Baudelaire)\n",
    "s = \"\"\"Souvent, pour s’amuser, les hommes d’équipage\n",
    "Prennent des albatros, vastes oiseaux des mers,\n",
    "Qui suivent, indolents compagnons de voyage,\n",
    "Le navire glissant sur les gouffres amers.\n",
    "\"\"\"\n",
    "print(len(s))"
   ]
  },
  {
   "cell_type": "markdown",
   "metadata": {},
   "source": [
    "La taille de `s` se décompose en $182 = 2\\times 7\\times 13 = 14\\times 13$ caractères (y compris les espaces et retours à la ligne).\n",
    "\n",
    "Construisez une matrice `N` de taille 14×13 contenant chaque caractère de `s` dans ses cases et affichez-la."
   ]
  },
  {
   "cell_type": "code",
   "execution_count": null,
   "metadata": {},
   "outputs": [],
   "source": []
  },
  {
   "cell_type": "markdown",
   "metadata": {},
   "source": [
    "***\n",
    "(suite d'activité réservée aux plus rapides et téméraires)\n",
    "\n",
    "*pour aller plus loin*: Soit `t` la variable suivante"
   ]
  },
  {
   "cell_type": "code",
   "execution_count": 15,
   "metadata": {},
   "outputs": [
    {
     "name": "stdout",
     "output_type": "stream",
     "text": [
      "52 5 2\n"
     ]
    }
   ],
   "source": [
    "t = \"bienvenue chez les ch'tis est un fameux film de 2008\"\n",
    "print(len(t), len(t)//10, len(t)%10)"
   ]
  },
  {
   "cell_type": "markdown",
   "metadata": {},
   "source": [
    "On constate qu'avec 52 caractères, cela ferait 5 lignes de 10 caractères pleines et il resterait 2 caractères seuls\n",
    "\n",
    "Complétez la chaîne `t` avec suffisamment de caractères `*` pour une ligne de plus, puis construisez une matrice `O` de taille 6×10 contenant tous les caractères. (affichez `O` ensuite)"
   ]
  },
  {
   "cell_type": "code",
   "execution_count": null,
   "metadata": {},
   "outputs": [],
   "source": []
  },
  {
   "cell_type": "markdown",
   "metadata": {},
   "source": [
    "## Pour aller plus loin\n",
    "\n",
    "* sur une liste `L`, la méthode `L.pop()` renvoie le dernier élément de `L` et l'enlève de la liste (même principe en javascript sur `Array`)"
   ]
  },
  {
   "cell_type": "code",
   "execution_count": 16,
   "metadata": {},
   "outputs": [
    {
     "name": "stdout",
     "output_type": "stream",
     "text": [
      "5 [3, 4]\n"
     ]
    }
   ],
   "source": [
    "L = [3, 4, 5]\n",
    "a = L.pop()\n",
    "print(a, L)"
   ]
  },
  {
   "cell_type": "markdown",
   "metadata": {},
   "source": [
    "* sur une liste `L`, la méthode `L.insert(i, a)` insert l'élément `a` avant l'indice `i`"
   ]
  },
  {
   "cell_type": "code",
   "execution_count": 17,
   "metadata": {},
   "outputs": [
    {
     "name": "stdout",
     "output_type": "stream",
     "text": [
      "[3, 5, 4]\n"
     ]
    }
   ],
   "source": [
    "L.insert(1, a)\n",
    "print(L)"
   ]
  },
  {
   "cell_type": "markdown",
   "metadata": {},
   "source": [
    "**exercice**: avec `L = list(\"BTS SIO\")`, créez une matrice contenant toutes les permutations circulaires des lettres: le haut de la matrice contiendra\n",
    "\n",
    "    BTS SIO\n",
    "    OBTS SI\n",
    "    IOBTS S\n",
    "    etc."
   ]
  }
 ],
 "metadata": {
  "kernelspec": {
   "display_name": "Python 3",
   "language": "python",
   "name": "python3"
  },
  "language_info": {
   "codemirror_mode": {
    "name": "ipython",
    "version": 3
   },
   "file_extension": ".py",
   "mimetype": "text/x-python",
   "name": "python",
   "nbconvert_exporter": "python",
   "pygments_lexer": "ipython3",
   "version": "3.8.10"
  },
  "toc": {
   "base_numbering": 1,
   "nav_menu": {},
   "number_sections": true,
   "sideBar": true,
   "skip_h1_title": false,
   "title_cell": "Table of Contents",
   "title_sidebar": "Contents",
   "toc_cell": false,
   "toc_position": {},
   "toc_section_display": true,
   "toc_window_display": false
  }
 },
 "nbformat": 4,
 "nbformat_minor": 4
}
