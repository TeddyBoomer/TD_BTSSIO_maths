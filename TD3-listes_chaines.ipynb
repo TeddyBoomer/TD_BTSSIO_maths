{
 "cells": [
  {
   "cell_type": "markdown",
   "metadata": {},
   "source": [
    "# TD3 - Listes et chaînes de caractères\n",
    "\n",
    "**Objectifs**:\n",
    "\n",
    "- parcourir des objets de type `list` ou `str`\n",
    "- construire une liste ou une chaîne modifiée\n",
    "- construire une variable d'accumulation\n",
    "\n",
    "**Resssources**: \n",
    "- polycopié *Algorithmique* - chapitre 4 (Blocs de répétition (finies/conditionnelles))\n",
    "- documentation officielle: [tutoriel 3.1.2 - chaînes de caractères](https://docs.python.org/fr/3/tutorial/introduction.html#strings), [tutoriel 3.1.3 - listes](https://docs.python.org/fr/3/tutorial/introduction.html#lists)\n",
    "\n",
    "## Indices des éléments, parcours, concaténation\n",
    "\n",
    "### Indice:\n",
    "La fonction `len` (*length*) permet de récupérer le nombre d'éléments d'une liste ou d'une chaîne de caractères. Les éléments sont *numérotés* à partir de 0"
   ]
  },
  {
   "cell_type": "code",
   "execution_count": 1,
   "metadata": {},
   "outputs": [
    {
     "name": "stdout",
     "output_type": "stream",
     "text": [
      "0 :  H\n",
      "1 :  e\n",
      "2 :  l\n",
      "3 :  l\n",
      "4 :  o\n",
      "0 :  3\n",
      "1 :  5.12\n",
      "2 :  -7\n"
     ]
    }
   ],
   "source": [
    "a = \"Hello\"\n",
    "b = [3, 5.12, -7]\n",
    "for i in range(len(a)):\n",
    "    print(i, \": \", a[i])\n",
    "for i in range(len(b)):\n",
    "    print(i, \": \", b[i])"
   ]
  },
  {
   "cell_type": "markdown",
   "metadata": {},
   "source": [
    "### Concaténation\n",
    "\n",
    "* Les `list` peuvent être *concaténer* pour former une `list` plus grande.\n",
    "* Les `str` peuvent aussi être *concaténer*"
   ]
  },
  {
   "cell_type": "code",
   "execution_count": 2,
   "metadata": {},
   "outputs": [
    {
     "name": "stdout",
     "output_type": "stream",
     "text": [
      "Hello les SIO1\n",
      "[3, 5.12, -7, 8, 9, 10]\n"
     ]
    }
   ],
   "source": [
    "a = a + \" les SIO1\" # concaténation et enregistrement dans a\n",
    "print(a)\n",
    "b = b + [8, 9, 10] # concaténation et enregistrement dans b\n",
    "print(b)"
   ]
  },
  {
   "cell_type": "markdown",
   "metadata": {},
   "source": [
    "### Conversion `str` → `list`, `list` → `str` (quand c'est possible)\n",
    "\n",
    "De ce fait, la *conversion* `str` → `list` est possible, et `list`→ `str` quand la liste ne contient que des caractères ou chaînes de caractères; observez:"
   ]
  },
  {
   "cell_type": "code",
   "execution_count": 3,
   "metadata": {},
   "outputs": [
    {
     "name": "stdout",
     "output_type": "stream",
     "text": [
      "A:  ['H', 'e', 'l', 'l', 'o', ' ', 'l', 'e', 's', ' ', 'S', 'I', 'O', '1']\n",
      "concaténation avec chaîne vide:  BTS sio ; séparer par tiret:  B-T-S- -s-io\n"
     ]
    }
   ],
   "source": [
    "A = list(a)\n",
    "print(\"A: \", A)\n",
    "c = ['B', 'T', 'S', ' ', 's', 'io']\n",
    "C = ''.join(c) # concaténer tous les éléments de c avec une chaîne vide\n",
    "D = '-'.join(c) # concaténer avec un tiret de séparation\n",
    "print(\"concaténation avec chaîne vide: \", C, \"; séparer par tiret: \", D)"
   ]
  },
  {
   "cell_type": "markdown",
   "metadata": {},
   "source": [
    "### `str` non modifiable, `list`: modifiable\n",
    "\n",
    "Une différence essentielle entre le type `list` et le type `str`: les éléments des listes sont *modifiables*, pas ceux d'une `str`. Observez:"
   ]
  },
  {
   "cell_type": "code",
   "execution_count": 4,
   "metadata": {},
   "outputs": [
    {
     "name": "stdout",
     "output_type": "stream",
     "text": [
      "['B', 'Z', 'S', ' ', 's', 'io']\n"
     ]
    },
    {
     "ename": "TypeError",
     "evalue": "'str' object does not support item assignment",
     "output_type": "error",
     "traceback": [
      "\u001b[0;31m---------------------------------------------------------------------------\u001b[0m",
      "\u001b[0;31mTypeError\u001b[0m                                 Traceback (most recent call last)",
      "\u001b[0;32m<ipython-input-4-c0407c9209c8>\u001b[0m in \u001b[0;36m<module>\u001b[0;34m\u001b[0m\n\u001b[1;32m      1\u001b[0m \u001b[0mc\u001b[0m\u001b[0;34m[\u001b[0m\u001b[0;36m1\u001b[0m\u001b[0;34m]\u001b[0m \u001b[0;34m=\u001b[0m \u001b[0;34m'Z'\u001b[0m \u001b[0;31m# voir c ci-dessus\u001b[0m\u001b[0;34m\u001b[0m\u001b[0;34m\u001b[0m\u001b[0m\n\u001b[1;32m      2\u001b[0m \u001b[0mprint\u001b[0m\u001b[0;34m(\u001b[0m\u001b[0mc\u001b[0m\u001b[0;34m)\u001b[0m\u001b[0;34m\u001b[0m\u001b[0;34m\u001b[0m\u001b[0m\n\u001b[0;32m----> 3\u001b[0;31m \u001b[0ma\u001b[0m\u001b[0;34m[\u001b[0m\u001b[0;36m1\u001b[0m\u001b[0;34m]\u001b[0m \u001b[0;34m=\u001b[0m \u001b[0;34m'a'\u001b[0m \u001b[0;31m# va provoquer une erreur\u001b[0m\u001b[0;34m\u001b[0m\u001b[0;34m\u001b[0m\u001b[0m\n\u001b[0m",
      "\u001b[0;31mTypeError\u001b[0m: 'str' object does not support item assignment"
     ]
    }
   ],
   "source": [
    "c[1] = 'Z' # voir c ci-dessus\n",
    "print(c)\n",
    "a[1] = 'a' # va provoquer une erreur"
   ]
  },
  {
   "cell_type": "markdown",
   "metadata": {},
   "source": [
    "En règle générale, pour manipuler une chaîne de caractères `C`:\n",
    "\n",
    "* on initialise une liste vide `L ← []` ou une chaîne vide `sortie ← \"\"`\n",
    "* on parcourt les éléments de `C`\n",
    "* selon l'algorithme, on ajoute un nouvel élément à `L`, ou on concatène `sortie ← sortie + *une str*`\n",
    "* si l'algorithme doit renvoyer une `str` à la fin, on concatène les éléments de `L` selon l'exemple vu plus haut: `\"\".join(L)` ou on renvoie `sortie` qui est déjà du bon type.\n",
    "\n",
    "Parfois, pour des algorithmes de comptage, on initialisera plutôt un compteur entier (par exemple: pour compter les voyelles, compter les majuscules, compter les espaces…)\n",
    "\n",
    "---\n",
    "\n",
    "## Code Unicode des caractères\n",
    "\n",
    "Tous les caractères alphanumériques sont définis dans une table internationale standard: la **table Unicode**. À chaque caractère est attribué un nombre dans cette table, souvent exprimé en hexadécimal (voir [table Unicode 0000 à FFFF](https://fr.wikipedia.org/wiki/Table_des_caract%C3%A8res_Unicode_(0000-0FFF))).\n",
    "\n",
    "En python, on dispose des fonctions suivantes:\n",
    "\n",
    "* `ord(c: str) -> int`: renvoie le code Unicode d'un caractère\n",
    "* `chr(n: int) -> str`: renvoie le caractère correspondant à l'entier `n` dans la table Unicode\n",
    "\n",
    "Observez:"
   ]
  },
  {
   "cell_type": "code",
   "execution_count": 5,
   "metadata": {},
   "outputs": [
    {
     "name": "stdout",
     "output_type": "stream",
     "text": [
      "65 0x41\n"
     ]
    }
   ],
   "source": [
    "print(ord('A'), hex(ord('A'))) # code Unicode de 'A' et son écriture hexadécimale"
   ]
  },
  {
   "cell_type": "markdown",
   "metadata": {},
   "source": [
    "**Exercice 0**: lire la valeur des codes Unicode de `a` `z`, `é` en hexadécimal dans le tableau wikipédia, puis les convertir en décimal.\n",
    "\n",
    "---\n",
    "\n",
    "## Algorithmes sur papier\n",
    "\n",
    "**Exercice 1**: On veut écrire une fonction `masque2(s: str) -> str` qui prend une chaîne de caractères `s` en entrée et remplace **deux caractères sur 4** par des tirets. Par exemple:\n",
    "\n",
    "`masque2(\"HelloWorld\")` doit renvoyer '--ll--or--'\n",
    "\n",
    "1. Quelle serait la sortie avec `s = BonjourSIO`?\n",
    "2. En division par 4, quels sont les restes possibles? rappeler alors l'écriture générale des indices `i` pour lesquels il faut remplacer le caractère par un tiret.\n",
    "3. Rédiger en langage naturel la fonction demandée (penser à concaténer en `str` à la fin si vous avez construit une `list`).\n",
    "\n",
    "```md\n",
    "fonction masque2(s: str):\n",
    "\n",
    "\n",
    "\n",
    "\n",
    "\n",
    "\n",
    "\n",
    "```\n",
    "\n",
    "---\n",
    "**Exercice 2**: on veut écrire une fonction `grabMaj(s: str) -> str` qui prend une chaîne de caractères `s` en entrée et renvoie la chaîne constituée uniquement des **MAJUSCULES** de `s`.\n",
    "\n",
    "On supposera d'abord pour simplifier qu'il n'y a pas de caractères accentués majuscules dans `s`.\n",
    "\n",
    "Par exemple: `grabMaj(\"BonJouR\")` doit renvoyer `BJR`\n",
    "\n",
    "1. Quelle est la plage des valeurs Unicode correspondant aux majuscules (donner directement en hexadécimal)?\n",
    "2. Rédiger l'algorithme de la fonction `grabMaj` (si `c` est un caractère, on pourra utiliser `ord(c)` pour obtenir son code Unicode)\n",
    "\n",
    "```md\n",
    "fonction grabMaj(s: str):\n",
    "\n",
    "\n",
    "\n",
    "\n",
    "\n",
    "\n",
    "\n",
    "```\n",
    "*remarque*: pour un caractère `c`, on peut compléter le test de majuscule par ` OU ( 0xC0 <=ord(c) ET ord(c) <= 0xCF ET (ord(c) not in [0xC2, 0xC3, 0xc4, 0xC5, 0xCC, 0xCD]))` dans votre ligne de test. Cela permet d'avoir réellement toutes les majuscules (même accentuées) en français.\n",
    "\n",
    "---\n",
    "\n",
    "**Exercice 3**: on veut écrire une fonction `countNoMaj(s: str) -> int` qui prend une chaîne de caractères `s` en entrée et renvoie le nombre de caractères de `s` **qui ne sont pas des majuscules** (y compris espaces et ponctuation). \n",
    "\n",
    "Par exemple: `countNoMaj(\"BonJouR\")` doit renvoyer `4`.\n",
    "\n",
    "En adaptant le test et le code de l’exercice 2, rédiger la fonction `countNoMaj`.\n",
    "\n",
    "```md\n",
    "fonction countNoMaj(s: str):\n",
    "\n",
    "\n",
    "\n",
    "\n",
    "\n",
    "\n",
    "\n",
    "```\n",
    "\n"
   ]
  },
  {
   "cell_type": "markdown",
   "metadata": {},
   "source": [
    "## Implémentation sur machine\n",
    "\n",
    "**Exercice 4**: sur machine, implémenter les fonctions des exercices 1, 2, 3 et testez-les sur plusieurs chaînes de caractères, dont `c1` et `c2` ci-dessous, pour vérifier leur bon fonctionnement.\n"
   ]
  },
  {
   "cell_type": "code",
   "execution_count": null,
   "metadata": {},
   "outputs": [],
   "source": [
    "c1 = \"ABraCaDabra Occus Poccus\"\n",
    "c2 = \"les tRépidantEs aVentures de pInce-mi et pince-moi Sont dans un gâtEau, heu un BâTeau: maiS cette histoire est trop longue…\"\n"
   ]
  }
 ],
 "metadata": {
  "kernelspec": {
   "display_name": "Python 3",
   "language": "python",
   "name": "python3"
  },
  "language_info": {
   "codemirror_mode": {
    "name": "ipython",
    "version": 3
   },
   "file_extension": ".py",
   "mimetype": "text/x-python",
   "name": "python",
   "nbconvert_exporter": "python",
   "pygments_lexer": "ipython3",
   "version": "3.8.10"
  },
  "toc": {
   "base_numbering": 1,
   "nav_menu": {},
   "number_sections": true,
   "sideBar": true,
   "skip_h1_title": false,
   "title_cell": "Table of Contents",
   "title_sidebar": "Contents",
   "toc_cell": false,
   "toc_position": {},
   "toc_section_display": true,
   "toc_window_display": false
  }
 },
 "nbformat": 4,
 "nbformat_minor": 4
}
