{
 "cells": [
  {
   "cell_type": "markdown",
   "metadata": {},
   "source": [
    "# Boucles et divisibilité\n",
    "\n",
    "L'objectif de ce TD est de se familiariser avec\n",
    "* les boucles (répétition d'instruction)\n",
    "* le test «a est-il un multiple de b»\n",
    "* les fonctions (pour pouvoir rappeler plusieurs fois un bloc d'instructions)\n",
    "\n",
    "Dans la 1ere partie, on construit une fonction de recherche de la *liste des diviseurs* d'un entier naturel, puis on l'améliore.\n",
    "\n",
    "Dans la 2eme partie, vous devrez adapter une feuille de style CSS pour des colorations.\n",
    "\n",
    "## Liste des diviseurs\n",
    "\n",
    "Rappel: en python (comme en javascript) les listes d'objets sont décrites entre crochets [ ].\n",
    "\n",
    "**exercice 1**: compléter ici la liste des diviseurs de 60: …\n",
    "\n",
    "**exercice 2**: implémenter l'algorithme ci-dessous:\n",
    "\n",
    "```md\n",
    "A ← saisir un entier naturel\n",
    "L ← [] # initialisation liste vide\n",
    "pour i allant de 1 à A:\n",
    "    si i divise A:\n",
    "        accrocher i à la fin de L\n",
    "Afficher L\n",
    "```\n",
    "(s'aider du chapitre 4 d'algorithmique pour les boucles en python)"
   ]
  },
  {
   "cell_type": "code",
   "execution_count": null,
   "metadata": {},
   "outputs": [],
   "source": []
  },
  {
   "cell_type": "markdown",
   "metadata": {},
   "source": [
    "**exercice 3**: réécriture sous forme d'une fonction\n",
    "\n",
    "En réalité l'algorithme de l'exercice 2 doit pouvoir être rappelé pour chercher les diviseurs de plusieurs nombres.\n",
    "On doit donc le réécrire sous forme de **fonction** (chapitre 5 - algorithmique). \n",
    "\n",
    "La saisie au clavier ne fait pas partie de la fonction, c'est une instruction d'entrée utilisée au démarrage du script.\n",
    "\n",
    "Nous allons réécrire l'algorithme avec une fonction `diviseurs(A: int) -> list` puis un appel pour l'utiliser:\n",
    "\n",
    "```md\n",
    "fonction diviseurs(A: int) -> list:\n",
    "    L ← [] # initialisation liste vide\n",
    "    pour i allant de 1 à A:\n",
    "        si i divise A:\n",
    "            accrocher i à la fin de L\n",
    "    Renvoyer L\n",
    "\n",
    "a ← saisir un entier naturel\n",
    "print(diviseurs(a))\n",
    "```\n",
    "\n",
    "*remarque 1*: on a volontairement changer la casse de la variable `A` entre la ligne 1 et la ligne 8 pour vous montrer qu'on injecte ce qu'on veut dans l'appel de fonction.\n",
    "\n",
    "*remarque 2*: bien observer qu'une fonction **renvoie** un résultat avec le mot clé `return`."
   ]
  },
  {
   "cell_type": "code",
   "execution_count": null,
   "metadata": {},
   "outputs": [],
   "source": []
  },
  {
   "cell_type": "markdown",
   "metadata": {},
   "source": [
    "**exercice 4 - Amélioration 1**: Si on appelle `diviseurs(60)`, une boucle va répéter 60 fois le test de divisibilité. Ce n'est pas efficace car en réalité, quand vous trouvez un diviseur $p$, vous trouvez aussi son complément $q$ tels que $60=pq$.\n",
    "\n",
    "Tentons d'observer cela: copiez et modifiez votre code pour correspondre à cet algorithme:\n",
    "```md\n",
    "fonction diviseurs(A: int) -> list:\n",
    "    L ← [] # initialisation liste vide\n",
    "    pour i allant de 1 à A:\n",
    "        si i divise A:\n",
    "            accrocher i à la fin de L\n",
    "            accrocher A//i à la fin de L # quotient correspondant\n",
    "    Renvoyer L\n",
    "\n",
    "a ← saisir un entier naturel\n",
    "print(diviseurs(a))\n",
    "```"
   ]
  },
  {
   "cell_type": "code",
   "execution_count": null,
   "metadata": {},
   "outputs": [],
   "source": []
  },
  {
   "cell_type": "markdown",
   "metadata": {},
   "source": [
    "… vous voyez apparaître les diviseurs par paquet de 2, dans un sens puis dans l'autre quand on franchit une certaine frontière par rapport au nombre d'entrée $n$.\n",
    "\n",
    "Réfléchissons: si $p$ divise $n$, il existe $q\\in\\mathbb{N}$ tel que $n=pq$ ($q$ est juste le *quotient* entier de $n$ par $p$). Supposons, sans perte de généralité que $p\\leqslant q$, dans ce cas on a:\n",
    "\n",
    "$p\\times p \\leqslant p \\times q$ c'est-à-dire $p^2 \\leqslant n$\n",
    "\n",
    "**Bilan:** quand on arrive à trouver une paire de diviseurs $p,q$ d'un entier $n=pq$, le plus petit des deux vérifie toujours $p^2 \\leqslant n$ c'est-à-dire $p\\leqslant \\sqrt{n}$.\n",
    "\n",
    "**exercice 5 - Amélioration finale**: copiez et corriger votre code pour correspondre à cette version optimale:\n",
    "\n",
    "```md\n",
    "fonction diviseurs(A: int) -> list:\n",
    "    L ← [] # initialisation liste vide\n",
    "    pour i allant de 1 à int(sqrt(A)):\n",
    "        si i divise A:\n",
    "            accrocher i à la fin de L\n",
    "            accrocher A//i à la fin de L # quotient correspondant\n",
    "    Renvoyer L\n",
    "\n",
    "a ← saisir un entier naturel\n",
    "print(diviseurs(a))\n",
    "```\n",
    "\n",
    "`sqrt`: square root - racine carrée (à charger en début de script)"
   ]
  },
  {
   "cell_type": "code",
   "execution_count": null,
   "metadata": {},
   "outputs": [],
   "source": [
    "from math import sqrt"
   ]
  },
  {
   "cell_type": "markdown",
   "metadata": {},
   "source": [
    "**exercice 6**: À l'aide d'une boucle et de la fonction `diviseurs` ci-dessous, affichez les diviseurs de chaque entiers $n$, pour $n$ allant de 10 à 30."
   ]
  },
  {
   "cell_type": "code",
   "execution_count": null,
   "metadata": {},
   "outputs": [],
   "source": []
  },
  {
   "cell_type": "markdown",
   "metadata": {},
   "source": [
    "***\n",
    "\n",
    "## Colorations des lignes dans une feuille de style CSS\n",
    "\n",
    "Dans les technologies du web, on décrit les styles des éléments d'une page html dans une feuille de style CSS (cascading stylessheet). Ici, nous incluerons le style de façon *interne* à la page pour plus de facilité.\n",
    "(Le lecteur averti est invité à savoir créer une feuille de style *externe* à une page web).\n",
    "\n",
    "**objectif**: éditer une feuille CSS pour colorer les lignes d'une page html selon une règle précise.\n",
    "\n",
    "**1ere étape**: copier [la fable du corbeau et du renard](TD2_page_web.html) localement sur votre poste; éditer la page dans un éditeur de texte (Notepad++)\n",
    "\n",
    "**2eme étape**: ajouter un élément `<style> </style>` dans l'entête (élément `<head> </head>`) de la page.\n",
    "\n",
    "→ vous êtes prêt(e) à ajouter un style\n",
    "\n",
    "**modification 1**: les lignes paires sont celles dont le numéro est de la forme $2n$ (puisque c'est être multiple de 2). Ajoutez le code suivant dans la balise style:\n",
    "\n",
    "`div > p:nth-child(2n) {background: #FF0}`\n",
    "→ sauvegardez et ouvrez la page dans un navigateur.\n",
    "\n",
    "*explication*: le style concerne les balises de type `p` enfants de la balise `div` (division); il sélectionne les éléments pairs\n",
    "\n",
    "**modification 2**: modifiez pour avoir les lignes multiples de 3 en fond rouge:\n",
    "\n",
    "`div > p:nth-child(3n) {background: #F00}`\n",
    "\n",
    "*explication de la couleur*: elle est décrite en RVB (rouge vert bleu) hexadécimal: on indique l'intensité de chaque composante avec un caractère hexadécimal (soit 16 intensités par composante donc $16^3 = 4096$ couleurs possibles). On verra souvent des codes couleur de la forme `#xxxxxx` avec 6 caractères: il y a alors 2 caractères hexadécimaux pour décrire l'intensité des composantes ($16^2 = 256$ niveaux d'intensité par composante).\n",
    "\n",
    "**modification 3**: comment attribuer des couleurs aux lignes intermédiaires des multiples de 3? il suffit d'observer les possibilités de reste par 3: 0 1 ou 2.\n",
    "\n",
    "ajouter deux autres styles pour combler des couleurs dans les 2 cas restants:\n",
    "\n",
    "`div > p:nth-child(3n+1) {background: #0FF}\n",
    "div > p:nth-child(3n+2) {background: #AAA}`"
   ]
  }
 ],
 "metadata": {
  "kernelspec": {
   "display_name": "Python 3",
   "language": "python",
   "name": "python3"
  },
  "language_info": {
   "codemirror_mode": {
    "name": "ipython",
    "version": 3
   },
   "file_extension": ".py",
   "mimetype": "text/x-python",
   "name": "python",
   "nbconvert_exporter": "python",
   "pygments_lexer": "ipython3",
   "version": "3.8.10"
  },
  "toc": {
   "base_numbering": 1,
   "nav_menu": {},
   "number_sections": true,
   "sideBar": true,
   "skip_h1_title": false,
   "title_cell": "Table of Contents",
   "title_sidebar": "Contents",
   "toc_cell": false,
   "toc_position": {},
   "toc_section_display": true,
   "toc_window_display": false
  }
 },
 "nbformat": 4,
 "nbformat_minor": 4
}
