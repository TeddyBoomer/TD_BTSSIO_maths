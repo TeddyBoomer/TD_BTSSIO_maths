{
 "cells": [
  {
   "cell_type": "markdown",
   "metadata": {},
   "source": [
    "# TD4 - construction du pgcd de 2 entiers\n",
    "\n",
    "**objectif**: programmer la construction du pgcd de 2 entiers `a` et `b`.\n",
    "\n",
    "Il y a deux méthodes directes pour cela:\n",
    "1. générer les listes `L1` des diviseurs de `a` et `L2` des diviseurs de `b`; calculer l'intersection de ces listes, puis renvoyer l'élément maximal de cette intersection.\n",
    "2. implémenter l'algorithme d'Euclide.\n",
    "\n",
    "---"
   ]
  },
  {
   "cell_type": "markdown",
   "metadata": {},
   "source": [
    "## Intersection des listes de diviseurs\n",
    "\n",
    "**Rappel**: on a déjà construit une fonction (optimisée) pour calculer la liste des diviseurs d'un entier; vous pourrez utiliser la fonction `diviseurs` ci-dessous:"
   ]
  },
  {
   "cell_type": "code",
   "execution_count": null,
   "metadata": {},
   "outputs": [],
   "source": [
    "from math import sqrt # square root: racine carré\n",
    "def diviseurs(a: int) -> list:\n",
    "    \"\"\"générer la liste des diviseurs de a, 2 par 2\"\"\"\n",
    "    L = []\n",
    "    for i in range(1, int(sqrt(a))+1):\n",
    "        if a%i == 0:\n",
    "            L.append(i)\n",
    "            if a//i != i:\n",
    "                L.append(a//i) # on évite de copier sqrt(a) 2 fois si a est un carré parfait\n",
    "    return L\n",
    "\n",
    "L144 = diviseurs(144) \n",
    "print(L144)"
   ]
  },
  {
   "cell_type": "markdown",
   "metadata": {},
   "source": [
    "**test de présence**: En python, la syntaxe `e in L` est une proposition logique; sa valeur de vérité est vraie quand l'élément `e` est bien dans la liste `L`; \n",
    "\n",
    "Sa négation peut s'écrire `not(e in L)` ou encore `e not in L`.\n",
    "Observez:"
   ]
  },
  {
   "cell_type": "code",
   "execution_count": null,
   "metadata": {},
   "outputs": [],
   "source": [
    "print(3 in L144, 144 not in L144)"
   ]
  },
  {
   "cell_type": "markdown",
   "metadata": {},
   "source": [
    "**Exercice 1**:\n",
    "\n",
    "1. Déterminer la liste des diviseurs de 2329487875 et de 973178024 dans python. Vous enregistrerez les résultats dans les variables `L1` et `L2`"
   ]
  },
  {
   "cell_type": "code",
   "execution_count": null,
   "metadata": {},
   "outputs": [],
   "source": []
  },
  {
   "cell_type": "markdown",
   "metadata": {},
   "source": [
    "2. Déterminer la liste des nombres qui sont dans *l'intersection* de `L1` et `L2` en implémentant cet algorithme\n",
    "\n",
    "```md\n",
    "L1, L2 construits ci-dessus\n",
    "I = [] # init. liste vide\n",
    "n1 ← taille de L1\n",
    "Pour i allant de 0 à n1-1:\n",
    "    si L1[i] est dans L2:\n",
    "        accrocher L1[i] à la fin de I\n",
    "Afficher I\n",
    "```"
   ]
  },
  {
   "cell_type": "code",
   "execution_count": null,
   "metadata": {},
   "outputs": [],
   "source": []
  },
  {
   "cell_type": "markdown",
   "metadata": {},
   "source": [
    "3. Par construction, `I` est l'ensemble des diviseurs communs à 2329487875 et 973178024. Déterminer le maximum de la liste `I` qui n'est autre que leur pgcd $2329487875 \\wedge 973178024$. Pour cela lancez simplement l'instruction suivante:"
   ]
  },
  {
   "cell_type": "code",
   "execution_count": null,
   "metadata": {},
   "outputs": [],
   "source": [
    "print(max(I)) # max est une builtin function, disponible directement\n",
    "\n",
    "# lancer: print(max.__doc__)\n",
    "# pour voir sa documentation"
   ]
  },
  {
   "cell_type": "markdown",
   "metadata": {},
   "source": [
    "4. **Amélioration**: Regroupez les instructions précédentes dans une fonction `pgcd(a: int, b: int) -> int`.\n",
    "L'algorithme en langage naturel est donc: \n",
    "```md\n",
    "fonction pgcd(a: int, b: int):\n",
    "    L1← liste des diviseurs de a\n",
    "    L2← liste des diviseurs de b\n",
    "    I = [] # init. liste vide\n",
    "    n1 ← taille de L1\n",
    "    Pour i allant de 0 à n1-1:\n",
    "        si L1[i] est dans L2:\n",
    "            accrocher L1[i] à la fin de I\n",
    "    Renvoyer max(I)\n",
    "```\n",
    "**Remarque 1**: observez que la fonction *renvoie* un résultat avec le mot clé `return` pour qu'on puisse l'utiliser dans d'autres calculs ou le stocker dans une variable.\n",
    "\n",
    "**Remarque 2**: pensez à tester ensuite votre fonction sur plusieurs exemples."
   ]
  },
  {
   "cell_type": "code",
   "execution_count": null,
   "metadata": {},
   "outputs": [],
   "source": []
  },
  {
   "cell_type": "markdown",
   "metadata": {},
   "source": [
    "---\n",
    "\n",
    "## Algorithme d'Euclide\n",
    "\n",
    "**exercice 2**: Implémentez directement une fonction `pgcdEuclide(a: int, b: int) -> int` qui calcule le pgcd avec l'algorithme d'Euclide.\n",
    "\n",
    "Vous ferez en sorte d'afficher l'état des variables de travail à chaque étape de la boucle Tant que.\n",
    "\n",
    "Calculez alors le pgcd des couples de nombres suivants:\n",
    "- $a=14,b=35$\n",
    "- $a=30,b=105$\n",
    "- $a=98,b=30$ \n",
    "- $a=7875, b=272160$\n",
    "- $a=2329487875, b=973178024$"
   ]
  },
  {
   "cell_type": "code",
   "execution_count": null,
   "metadata": {},
   "outputs": [],
   "source": []
  },
  {
   "cell_type": "markdown",
   "metadata": {},
   "source": [
    "## Pour aller plus loin (1)\n",
    "\n",
    "De la même façon que pour le pgcd, on définit le *ppcm* (plus petit commun multiple) de deux nombres `a` et `b` comme étant le plus petit entier naturel non nul parmi les multiples communs à `a` et `b` (notez que l'ensembles de ces multiples est non vide car il contient `ab`, il est aussi minoré par 0; il possède donc un plus petit élément non nul).\n",
    "\n",
    "On peut montrer que $$pgcd(a,b) \\times ppcm(a,b) = a\\times b$$\n",
    "de sorte que  $$ppcm(a,b) = \\frac{ab}{pgcd(a,b)}$$\n",
    "\n",
    "Implémentez une fonction `ppcm(a: int, b:int) -> int` selon cette formule et déterminez le ppcm pour les 3 premiers couples de l'exercice 2 ci-dessus."
   ]
  },
  {
   "cell_type": "code",
   "execution_count": null,
   "metadata": {},
   "outputs": [],
   "source": []
  },
  {
   "cell_type": "markdown",
   "metadata": {},
   "source": [
    "---\n",
    "## Pour aller plus loin (2)\n",
    "\n",
    "On donne la liste suivante des nombres premiers inférieurs à 200:\n",
    "\n",
    "`P = [2, 3, 5, 7, 11, 13, 17, 19, 23, 29, 31, 37, 41, 43, 47, 53, 59, 61, 67, 71, 73, 79, 83, 89, 97, 101, 103, 107, 109, 113, 127, 131, 137, 139, 149, 151, 157, 163, 167, 173, 179, 181, 191, 193, 197, 199]\n",
    "`\n",
    "\n",
    "Implémentez la fonction `listeFacteursPremiers(n: int) -> list` qui construit la liste des diviseurs premiers dans la décomposition en produit de facteurs premiers d'un nombre `n` (l'algorithme fonctionne pour les nombres qui ne possèdent que des diviseurs premiers inférieurs à 199): on essaie de diviser `n` par chacun des nombres premiers de la liste `P` autant que possible.\n",
    "\n",
    "L'astuce ici va consister à *épuiser* la liste `P` au fur et à mesure quand on est sûr le facteur premier ne convient pas: on utilise la méthode de liste `L.pop()` qui renvoie le dernier élément d'une liste (non vide) et l'enlève de la liste (similaire en javascript, [`Array.pop`](https://developer.mozilla.org/fr/docs/Web/JavaScript/Reference/Global_Objects/Array/pop)).\n",
    "\n",
    "par exemple avec `L  = [5, 10, 3]`, la commande `q = L.pop()` affecte la valeur 3 à `q` et `L` vaut alors `[5, 10]`.\n",
    "\n",
    "\n",
    "```md\n",
    "(P à initialiser hors de la fonction)\n",
    "fonction listeFacteursPremiers(n: int):\n",
    "    L ← []\n",
    "    N ← n # copie de départ\n",
    "    q ← sortir le dernier élément de P\n",
    "    Tant que N > 1:\n",
    "        Si N est un multiple de q:\n",
    "            accrocher q dans L\n",
    "            N ← N // q\n",
    "        Sinon:\n",
    "            q ← sortir le dernier élément de P\n",
    "    Renvoyer L\n",
    "```\n",
    "\n",
    "Trouver alors la liste des facteurs premiers *avec multiplicité* dans la décomposition en produit de facteurs premiers de:\n",
    "* 90 \n",
    "* 20790\n",
    "* 15926625\n",
    "* 903919326468290\n",
    "* 30890893906951\n",
    "* 201\n",
    "* 211 (à votre avis, pourquoi celui-ci provoque une erreur?)\n",
    "\n",
    "**Remarque**: `P` est une variable **globale** utilisée et modifiée à l'intérieur de l'appel de la fonction `listeFacteursPremiers`."
   ]
  },
  {
   "cell_type": "code",
   "execution_count": null,
   "metadata": {},
   "outputs": [],
   "source": []
  }
 ],
 "metadata": {
  "kernelspec": {
   "display_name": "Python 3",
   "language": "python",
   "name": "python3"
  },
  "language_info": {
   "codemirror_mode": {
    "name": "ipython",
    "version": 3
   },
   "file_extension": ".py",
   "mimetype": "text/x-python",
   "name": "python",
   "nbconvert_exporter": "python",
   "pygments_lexer": "ipython3",
   "version": "3.8.10"
  },
  "toc": {
   "base_numbering": 1,
   "nav_menu": {},
   "number_sections": true,
   "sideBar": true,
   "skip_h1_title": false,
   "title_cell": "Table of Contents",
   "title_sidebar": "Contents",
   "toc_cell": false,
   "toc_position": {},
   "toc_section_display": true,
   "toc_window_display": false
  }
 },
 "nbformat": 4,
 "nbformat_minor": 4
}
