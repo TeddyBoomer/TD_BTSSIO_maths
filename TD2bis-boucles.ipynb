{
 "cells": [
  {
   "cell_type": "markdown",
   "metadata": {},
   "source": [
    "# TD2bis-Boucles\n",
    "\n",
    "**Objectif**: \n",
    "* dans une boucle, bien identifier la mise à jour d'une variable d'accumulation quand c'est nécessaire\n",
    "* écriture de *fonction*\n",
    "\n",
    "## Factoriel\n",
    "\n",
    "**définition**: soit $n\\in \\mathbb{N}$ un entier naturel, on appelle *factoriel n* noté $n!$ le produit de tous les entiers de 1 à $n$:\n",
    "\n",
    "$$n! =1×2×3×…×n = \\prod_{i=1}^n i \\qquad \\text{par convention: } 0! = 1$$\n",
    "\n",
    "(la dernière écriture est condensée avec le symbole $\\Pi$ de produit, et une variable i prenant toutes les valeurs entières de 1 à $n$)\n",
    "\n",
    "Par exemple $3! = 1×2×3 = 6$\n",
    "\n",
    "**exercice 1**\n",
    "\n",
    "1. Calculer à la main $4!,5!$ et $6!$\n",
    "2. Implémentez en python une *fonction* `factoriel(n: int) -> int` calculant $n!$ (rappel: une fonction *renvoie* un résultat dans la mémoire d'exécution python avec le mot clef `return` en fin de fonction). *toujours tester sur quelques exemples*\n",
    "\n",
    "vérifier que le cas $n=0$ fonctionne aussi."
   ]
  },
  {
   "cell_type": "code",
   "execution_count": 1,
   "metadata": {},
   "outputs": [],
   "source": []
  },
  {
   "cell_type": "markdown",
   "metadata": {},
   "source": [
    "3. Générer une liste `L` des 16 premiers factoriels $0!, 1!, 2!, …,15!$; puis afficher `L`"
   ]
  },
  {
   "cell_type": "code",
   "execution_count": null,
   "metadata": {},
   "outputs": [],
   "source": []
  },
  {
   "cell_type": "markdown",
   "metadata": {},
   "source": [
    "4. **Amélioration du code**: \n",
    "* ajouter une *docstring* à votre fonction `factoriel`"
   ]
  },
  {
   "cell_type": "markdown",
   "metadata": {},
   "source": [
    "## Dénombrement\n",
    "\n",
    "Soit $n\\in \\mathbb{N}$. Dans un jeu de Pile ou Face, quand on répète $n$ fois le lancer, le *nombre de victoires* peut aller de 0 à $n$.\n",
    "\n",
    "Pour $k\\in \\{0,1,…, n\\}$, les façons d'agencer $k$ victoires parmi $n$ lancers consistent à écrire tous les mots à $n$ lettres comportant $k$ lettres `G` (gagné) et $n-k$ lettres `P` (perdu).\n",
    "\n",
    "Par exemple, pour 5 lancers, voici les agencements possibles pour 1 victoire et 4 succès:\n",
    "\n",
    "    GPPPP, PGPPP, PPGPP, PPPGP, PPPPG\n",
    "    \n",
    "**admis**: le dénombrement des façons d'obtenir $k$ victoires parmi $n$ lancers est appelé le *nombre binomial(n,k)* et vaut: \n",
    "\n",
    "$$ \\text{binomial}(n, k) = \\frac{n!}{k!(n-k)!} \\qquad \\text{par convention observer que binomial}(0,0) =1$$\n",
    "\n",
    "par exemple: $\\text{binomial}(5,1) = \\frac{5!}{1!4!} = \\frac{1×2×3×4×5}{1×1×2×3×4} = 5$\n",
    "\n",
    "**exercice**: Implémenter une *fonction* `binomial(n: int, k: int) -> int` calculant cette expression. Vous pouvez observer qu'à priori, le résultat est plutôt de type `float` car on fait une division; en réalité, la fraction se simplifie toujours correctement pour donner un entier (décompte entier du nombre de façons d'obtenir $k$ victoires parmi $n$ lancers de pile ou face)\n",
    "\n",
    "Vérifier le résultat sur quelques exemples comme `binomial(5,1)`, `binomial(5,3)`"
   ]
  },
  {
   "cell_type": "code",
   "execution_count": null,
   "metadata": {},
   "outputs": [],
   "source": []
  },
  {
   "cell_type": "markdown",
   "metadata": {},
   "source": [
    "## Bonus: sauvegarde des résultats dans un fichier\n",
    "\n",
    "Par défaut la fonction `print` affiche des résultats à l'écran. On peut modifier cela en précisant un fichier de sortie. Essayez ce bout de code et allez voir dans votre dossier personnel; un nouveau fichier `test_sortie.txt` doit être créé."
   ]
  },
  {
   "cell_type": "code",
   "execution_count": 4,
   "metadata": {},
   "outputs": [],
   "source": [
    "with open(\"test_sortie.txt\", \"w\") as F: # option \"w\": ouverture du fichier en écriture write\n",
    "    for i in range(0, 16):\n",
    "        print(factoriel(i), file=F) # ne fonctionne que si vous avez construit factoriel à l'ex1\n",
    "        \n",
    "# autre manière\n",
    "#F = open(\"test_sortie.txt\", \"w\")\n",
    "#for i in range(0, 16):\n",
    "#    print(factoriel(i), file=F) # ne fonctionne que si vous avez construit factoriel à l'ex1\n",
    "#F.close()    "
   ]
  }
 ],
 "metadata": {
  "kernelspec": {
   "display_name": "Python 3",
   "language": "python",
   "name": "python3"
  },
  "language_info": {
   "codemirror_mode": {
    "name": "ipython",
    "version": 3
   },
   "file_extension": ".py",
   "mimetype": "text/x-python",
   "name": "python",
   "nbconvert_exporter": "python",
   "pygments_lexer": "ipython3",
   "version": "3.8.10"
  },
  "toc": {
   "base_numbering": 1,
   "nav_menu": {},
   "number_sections": true,
   "sideBar": true,
   "skip_h1_title": false,
   "title_cell": "Table of Contents",
   "title_sidebar": "Contents",
   "toc_cell": false,
   "toc_position": {},
   "toc_section_display": true,
   "toc_window_display": false
  }
 },
 "nbformat": 4,
 "nbformat_minor": 4
}
