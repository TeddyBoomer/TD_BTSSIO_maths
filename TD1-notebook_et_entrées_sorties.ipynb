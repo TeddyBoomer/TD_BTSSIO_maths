{
 "cells": [
  {
   "cell_type": "markdown",
   "metadata": {},
   "source": [
    "# TD1 - scripts python et notebook\n",
    "\n",
    "Cette activité a pour but de découvrir les principes de programmation d'un script dans le langage python. Vous apprendrez à lancer des morceaux de code grâce au notebook.\n",
    "\n",
    "Les *notebook* sont désormais communément utilisés pour apprendre à programmer dans différents langages informatiques: l'interface web alterne des blocs de texte et des blocs de code informatique exécuté par un noyau logiciel. Ici, le noyau d'exécution est en *python 3*; c'est un langage interprété de haut niveau:\n",
    "\n",
    "* les scripts python sont analysés et exécutés directement par un *interpréteur python*\n",
    "* vous n'avez pas besoin de gérer l'allocation de mémoire pour définir des variables (même si il reste bon d'avoir conscience des quantités de données qui vont intervenir dans le script)\n",
    "\n",
    "Vous verrez plus tard la création et l'exécution directes de scripts python.\n",
    "\n",
    "**Raccourcis:**\n",
    "\n",
    "* zone de texte: Double-clic pour l'éditer, Ctrl + Entrée pour afficher son rendu\n",
    "* zone de code: Ctrl + Entrée pour exécuter le contenu (l'ordre d'exécution des zones a de l'importance)\n",
    "* zone de code: Esc puis \"b\" → créer une zone de code en dessous (below), Esc puis \"a\" → créer une zone au dessus (above)\n",
    "* modifier la nature d'une zone: Esc puis \"m\" → zone de texte (markdown), Esc puis \"y\" → zone de code\n",
    "\n",
    "Exécutez les zones suivantes pour voir…"
   ]
  },
  {
   "cell_type": "code",
   "execution_count": null,
   "metadata": {},
   "outputs": [],
   "source": [
    "a = 42\n",
    "b = 2\n",
    "print(a)"
   ]
  },
  {
   "cell_type": "code",
   "execution_count": null,
   "metadata": {},
   "outputs": [],
   "source": [
    "c = a**b # en python ** signifie puissance (^ réservé pour autre chose)\n",
    "print(c)"
   ]
  },
  {
   "cell_type": "markdown",
   "metadata": {},
   "source": [
    "***\n",
    "\n",
    "## Principes généraux d'un algorithme\n",
    "\n",
    "1. Un algorithme manipule toujours des quantités à stocker en mémoire: les *variables*. Il réalise une série finie d'instructions\n",
    "2. Il intéragit avec un utilisateur à l'aide d'instructions d'*entrée/sortie*: réception de données saisies, affichage  à l'écran ou enregistrement des résultats dans un fichier.\n",
    "\n",
    "3. Il utilise des blocs de contrôle pour piloter son exécution:\n",
    " * bloc conditionnel si, sinon\n",
    " * boucles de répétition pour (bornées), tant que (conditionnelles) (attention aux boucles infinies)\n",
    "\n",
    "4. Il utilise des blocs fonctionnels, les *fonctions* pour simplifier l'appel régulier à un ensemble d'instructions\n",
    "\n",
    "### Affectation de variable\n",
    "\n",
    "Les noms de variables peuvent contenir tout caractère alphanumérique en commençant par une lettre; éviter les caractères spéciaux `-*/+|^&` qui sont des opérateurs mathématiques de même que les caractères de parenthésage `()[]{}`.\n",
    "\n",
    "L'instruction `a = expr` est une *affectation* qui consiste à enregistrer le résultat du calcul de `expr` dans la variable `a`. Notez que l'écriture n'est pas symétrique `expr = a` provoque une erreur (essayez pour voir…)\n",
    "\n",
    "En langage naturel, on écrira l'équivalent `a ← expr`\n",
    "\n",
    "### instruction de Sortie\n",
    "\n",
    "Vous avez déjà rencontré la principale instruction de sortie: la fonction `print`. Lisez sa documentation en lançant le bloc ci-dessous:"
   ]
  },
  {
   "cell_type": "code",
   "execution_count": null,
   "metadata": {},
   "outputs": [],
   "source": [
    "print(print.__doc__) # afficher la doc. de la fonction print"
   ]
  },
  {
   "cell_type": "markdown",
   "metadata": {},
   "source": [
    "par défaut, la fonction print affichera à l'écran, mais on pourra aussi préciser de rediriger les résultats dans un fichier.\n",
    "\n",
    "### instruction d'Entrée au clavier\n",
    "\n",
    "La fonction `input(invite: str) -> str` est la principale instruction d'interaction pour demander une saisie au clavier.\n",
    "\n",
    "Observez l'écriture ci-dessus : il s'agit de la *signature* de la fonction: elle attend en paramètre une phrase d'invite (pour préciser ce qu'il y a à saisir) et renvoie une chaîne de caractères en sortie.\n",
    "\n",
    "**exemple**"
   ]
  },
  {
   "cell_type": "code",
   "execution_count": null,
   "metadata": {},
   "outputs": [],
   "source": [
    "c = input(\"saisir un nombre entier quelconque: \")\n",
    "print(c)"
   ]
  },
  {
   "cell_type": "markdown",
   "metadata": {},
   "source": [
    "⚠ une saisie au clavier est *toujours* une chaîne de caractères de type `str` ce qui implique que \n",
    "\n",
    "* les variables python sont typées\n",
    "* il faut convertir les saisies dans le type souhaité.\n",
    "\n",
    "### type de variables\n",
    "\n",
    "Les types de variables élémentaires en python sont: \n",
    "* `str`: les chaînes de caractères\n",
    "* `int`: les nombres entiers\n",
    "* `float`: les nombres à virgule flottante\n",
    "\n",
    "Ces trois types sont aussi des fonctions que l'on peut appeler pour convertir une expression au type souhaité. Ceci est appelé le [transtypage](https://fr.wikibooks.org/wiki/Programmation_Java/Transtypage).\n",
    "\n",
    "Nous verrons plus tard les `list` et les `tuple` qui sont des variables plus élaborées.\n",
    "\n",
    "**exemple**"
   ]
  },
  {
   "cell_type": "code",
   "execution_count": null,
   "metadata": {},
   "outputs": [],
   "source": [
    "print(c+3) # va provoquer une erreur car c est de type str"
   ]
  },
  {
   "cell_type": "code",
   "execution_count": null,
   "metadata": {},
   "outputs": [],
   "source": [
    "print(int(c)+3) # réalisable addition de deux entiers"
   ]
  },
  {
   "cell_type": "code",
   "execution_count": null,
   "metadata": {},
   "outputs": [],
   "source": [
    "d = int(input(\"saisir un nombre entier quelconque: \")) # enchaînement direct: saisie et conversion\n",
    "print(d+3) "
   ]
  },
  {
   "cell_type": "markdown",
   "metadata": {},
   "source": [
    "## Opérations de base\n",
    "\n",
    "### sur les nombres `int` et `float`\n",
    "\n",
    "les 4 opérations `+ - * /`, la fonction puissance `a**b` ($a^b$) vue plus haut. Noter que la division va produire un flottant en général"
   ]
  },
  {
   "cell_type": "code",
   "execution_count": 1,
   "metadata": {},
   "outputs": [
    {
     "name": "stdout",
     "output_type": "stream",
     "text": [
      "2.0\n"
     ]
    }
   ],
   "source": [
    "print(4/2) # observer que le résultat est un flottant bien qu'il tombe juste"
   ]
  },
  {
   "cell_type": "markdown",
   "metadata": {},
   "source": [
    "2 opérations **très importantes** concernent les entiers `int`: \n",
    "* le quotient entier de la division euclidienne `a//b`\n",
    "* le reste de la division euclidienne `a%b`"
   ]
  },
  {
   "cell_type": "code",
   "execution_count": 2,
   "metadata": {},
   "outputs": [
    {
     "name": "stdout",
     "output_type": "stream",
     "text": [
      "division euclidienne - quotient:  4  reste:  4\n"
     ]
    }
   ],
   "source": [
    "a = 29\n",
    "b = 5\n",
    "print(\"division euclidienne - quotient: \", a//b, \" reste: \", a%b)"
   ]
  },
  {
   "cell_type": "markdown",
   "metadata": {},
   "source": [
    "### sur les chaînes de caractères `str`\n",
    "\n",
    "* concaténation: `d+e` pour accrocher deux `str`\n",
    "* répétition d'un motif: `2*d`, `3*d`\n",
    "* nombre de caractères: appel à la fonction `len` (length)\n",
    "\n",
    "d'autres opérations seront vues plus tard"
   ]
  },
  {
   "cell_type": "code",
   "execution_count": 3,
   "metadata": {},
   "outputs": [
    {
     "name": "stdout",
     "output_type": "stream",
     "text": [
      "bonjour aux SIO\n",
      "bonjour bonjour  bonjour bonjour bonjour \n"
     ]
    }
   ],
   "source": [
    "d = \"bonjour \"\n",
    "e = \"aux SIO\"\n",
    "print(d+e)\n",
    "print(2*d, 3*d)\n",
    "print(len(d)) # nombre de caractères de d"
   ]
  },
  {
   "cell_type": "markdown",
   "metadata": {},
   "source": [
    "<span style=\"color: red\">☝ astuce:</span> pour intégrer des résultats dans une phrase, on peut éviter des concaténations laborieuses et préférer l'astucieuse notation de f-string (formatting string)"
   ]
  },
  {
   "cell_type": "code",
   "execution_count": 4,
   "metadata": {},
   "outputs": [
    {
     "name": "stdout",
     "output_type": "stream",
     "text": [
      "division euclidienne - quotient: 4 reste: 4\n",
      "division euclidienne - quotient: 4 reste: 4\n"
     ]
    }
   ],
   "source": [
    "c = \"division euclidienne - quotient: \" + str(a//b) + \" reste: \" + str(a%b) # old school\n",
    "d = f\"division euclidienne - quotient: {a//b} reste: {a%b}\" # on préfixe la str par f pour inclure des expr.\n",
    "print(c, d, sep=\"\\n\")"
   ]
  },
  {
   "cell_type": "markdown",
   "metadata": {},
   "source": [
    "### C'est-à-vous  - Exercices\n",
    "\n",
    "**Ex1**: Écrire un bloc d'instructions qui demande de saisir un entier, puis qui affiche «votre nombre préféré est: …» (avec le nombre saisi à la fin)."
   ]
  },
  {
   "cell_type": "code",
   "execution_count": null,
   "metadata": {},
   "outputs": [],
   "source": []
  },
  {
   "cell_type": "markdown",
   "metadata": {},
   "source": [
    "**Ex2**: Rédiger ci-dessous un script qui demande l'année de naissance `a` puis affiche «vous avez environ … ans» (en calculant juste la différence `2022 - a`)"
   ]
  },
  {
   "cell_type": "code",
   "execution_count": null,
   "metadata": {},
   "outputs": [],
   "source": []
  },
  {
   "cell_type": "markdown",
   "metadata": {},
   "source": [
    "**Ex3**: Rédiger un script qui demande de saisir une phrase `p` puis qui affiche «votre saisie comporte … caractères» (avec le bon nombre de caractères à la place des pointillés…)"
   ]
  },
  {
   "cell_type": "code",
   "execution_count": null,
   "metadata": {},
   "outputs": [],
   "source": []
  },
  {
   "cell_type": "markdown",
   "metadata": {},
   "source": [
    "## Tests et assertions\n",
    "\n",
    "Nous allons à présent un peu plus loin dans le codage de contraintes sur les variables; en effet, nous avons vu que les saisies sont de type `str` et peuvent être converties, malgré tout, même si vous demandez à l'utilisateur de saisir un entier, il peut entrer des caractères incompatibles et provoquer une erreur dans la suite du programme.\n",
    "\n",
    "### comparaisons\n",
    "\n",
    "Une comparaison entre deux nombres donne un résultat logique Vrai ou Faux `True`,`False`: ceci est donc un type de valeur à part en programmation, appelée *type booléen* `bool`. Ce type ne comporte que ces deux valeurs.\n",
    "\n",
    "* `<, >, <=, >=` permettent les comparaisons strictes ou larges $<, >, \\leqslant, \\geqslant$\n",
    "* `a != b` renvoie `True` si et seulement si les deux nombres sont différents.\n",
    "* `a == b` renvoie `True` si et seulement si les deux nombres sont égaux.\n",
    "\n",
    "(observer que `==` est donc un test logique, tandis que `=` est l'opérateur d'affectation vu plus haut)\n",
    "\n",
    "**exemple 1**: On veut que l'utilisateur saisisse un entier entre 0 et 20; "
   ]
  }
 ],
 "metadata": {
  "kernelspec": {
   "display_name": "Python 3",
   "language": "python",
   "name": "python3"
  },
  "language_info": {
   "codemirror_mode": {
    "name": "ipython",
    "version": 3
   },
   "file_extension": ".py",
   "mimetype": "text/x-python",
   "name": "python",
   "nbconvert_exporter": "python",
   "pygments_lexer": "ipython3",
   "version": "3.8.10"
  },
  "toc": {
   "base_numbering": 1,
   "nav_menu": {},
   "number_sections": true,
   "sideBar": true,
   "skip_h1_title": false,
   "title_cell": "Table of Contents",
   "title_sidebar": "Contents",
   "toc_cell": false,
   "toc_position": {},
   "toc_section_display": true,
   "toc_window_display": false
  }
 },
 "nbformat": 4,
 "nbformat_minor": 4
}
